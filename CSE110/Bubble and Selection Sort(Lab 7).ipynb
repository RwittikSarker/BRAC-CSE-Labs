{
 "cells": [
  {
   "cell_type": "code",
   "execution_count": 1,
   "metadata": {},
   "outputs": [
    {
     "name": "stdout",
     "output_type": "stream",
     "text": [
      "[1, 2, 2, 3, 5, 6, 10, 11, 12, 14, 15, 17, 18, 20, 29]\n"
     ]
    }
   ],
   "source": [
    "#TASK 1\n",
    "my_list = [10, 1, 20, 3, 6, 2, 5, 11, 15, 2, 12, 14, 17, 18, 29]\n",
    "\n",
    "for i in range(0,len(my_list)-1):\n",
    "    for j in range(0,len(my_list)-i-1):\n",
    "        if my_list[j] > my_list[j+1]:\n",
    "            temp = my_list[j]\n",
    "            my_list[j] = my_list[j+1]\n",
    "            my_list[j+1] = temp\n",
    "print(my_list)"
   ]
  },
  {
   "cell_type": "code",
   "execution_count": 2,
   "metadata": {},
   "outputs": [
    {
     "name": "stdout",
     "output_type": "stream",
     "text": [
      "[1, 2, 2, 3, 5, 6, 10, 11, 12, 14, 15, 17, 18, 20, 29]\n"
     ]
    }
   ],
   "source": [
    "#TASK 2\n",
    "my_list = [10, 1, 20, 3, 6, 2, 5, 11, 15, 2, 12, 14, 17, 18, 29]\n",
    "\n",
    "for i in range(0,len(my_list)):\n",
    "    min1 = i\n",
    "    for j in range(i+1,len(my_list)):\n",
    "        if my_list[j] < my_list[min1]:\n",
    "            min1 = j\n",
    "    temp = my_list[i]\n",
    "    my_list[i] = my_list[min1]\n",
    "    my_list[min1] = temp\n",
    "print(my_list)\n",
    "        "
   ]
  },
  {
   "cell_type": "code",
   "execution_count": 3,
   "metadata": {},
   "outputs": [
    {
     "name": "stdout",
     "output_type": "stream",
     "text": [
      "[29, 20, 18, 17, 15, 14, 12, 11, 10, 6, 5, 3, 2, 2, 1]\n"
     ]
    }
   ],
   "source": [
    "#TASK 3\n",
    "my_list = [10, 1, 20, 3, 6, 2, 5, 11, 15, 2, 12, 14, 17, 18, 29]\n",
    "\n",
    "for i in range(0,len(my_list)):\n",
    "    max1 = i\n",
    "    for j in range(i+1,len(my_list)):\n",
    "        if my_list[j] > my_list[max1]:\n",
    "            max1 = j\n",
    "    temp = my_list[i]\n",
    "    my_list[i] = my_list[max1]\n",
    "    my_list[max1] = temp\n",
    "print(my_list)\n",
    "        "
   ]
  },
  {
   "cell_type": "code",
   "execution_count": 4,
   "metadata": {},
   "outputs": [
    {
     "name": "stdout",
     "output_type": "stream",
     "text": [
      "[10, 100, 11, 80, 12, 70, 20, 56, 22, 30, 58, 16, 70, 15]\n"
     ]
    }
   ],
   "source": [
    "#TASK 4\n",
    "sitting_list = [10,30,20,70,11,15,22,16,58,100,12,56,70,80]\n",
    "even_indices = []\n",
    "odd_indices = []\n",
    "arrangement = []\n",
    "\n",
    "for i in range(0,len(sitting_list)):\n",
    "    if i % 2 == 0:\n",
    "        even_indices.append(sitting_list[i])\n",
    "    else:\n",
    "        odd_indices.append(sitting_list[i])\n",
    "\n",
    "for i in range(0,len(even_indices)):\n",
    "    min1 = i\n",
    "    for j in range(i+1,len(even_indices)):\n",
    "        if even_indices[j] < even_indices[min1]:\n",
    "            min1 = j\n",
    "    temp = even_indices[i]\n",
    "    even_indices[i] = even_indices[min1]\n",
    "    even_indices[min1] = temp\n",
    "\n",
    "for i in range(0,len(odd_indices)):\n",
    "    max1 = i\n",
    "    for j in range(i+1,len(odd_indices)):\n",
    "        if odd_indices[j] > odd_indices[max1]:\n",
    "            max1 = j\n",
    "    temp = odd_indices[i]\n",
    "    odd_indices[i] = odd_indices[max1]\n",
    "    odd_indices[max1] = temp\n",
    "\n",
    "temp1 = 0\n",
    "temp2 = 0\n",
    "\n",
    "for i in range(0,len(sitting_list)):\n",
    "    if i % 2 == 0:\n",
    "        arrangement.append(even_indices[temp1])\n",
    "        temp1 += 1\n",
    "    else:\n",
    "        arrangement.append(odd_indices[temp2])\n",
    "        temp2 += 1\n",
    "print(arrangement)"
   ]
  },
  {
   "cell_type": "code",
   "execution_count": 13,
   "metadata": {},
   "outputs": [
    {
     "name": "stdout",
     "output_type": "stream",
     "text": [
      "Musk\n",
      "Elon\n",
      "Turing\n",
      "Alan\n"
     ]
    }
   ],
   "source": [
    "#TASK 5\n",
    "lst = [ [\"Alan\", 95, 87, 91], [\"Turing\", 92, 90, 83], [\"Elon\", 87, 92, 80], [\"Musk\", 85, 94, 90] ]\n",
    "\n",
    "def my_sortf(my_list):\n",
    "    for i in range(0,len(my_list)):\n",
    "        max1 = i\n",
    "        for j in range(i+1,len(my_list)):\n",
    "            if my_list[j] > my_list[max1]:\n",
    "                max1 = j\n",
    "        temp = my_list[i]\n",
    "        my_list[i] = my_list[max1]\n",
    "        my_list[max1] = temp\n",
    "    return my_list\n",
    "\n",
    "input1 = input()\n",
    "MAT110 = []\n",
    "CSE110 = []\n",
    "PHY111 = []\n",
    "\n",
    "if input1 == \"CSE110\":\n",
    "    for i in lst:\n",
    "        CSE110.append(i[1])\n",
    "    my_sortf(CSE110)\n",
    "    for i in CSE110:\n",
    "        for j in lst:\n",
    "            if i == j[1]:\n",
    "                print(j[0])\n",
    "elif input1 == \"PHY111\":\n",
    "    for i in lst:\n",
    "        PHY111.append(i[2])\n",
    "    my_sortf(PHY111)\n",
    "    for i in PHY111:\n",
    "        for j in lst:\n",
    "            if i == j[2]:\n",
    "                print(j[0])\n",
    "elif input1 == \"MAT110\":\n",
    "    for i in lst:\n",
    "        MAT110.append(i[3])\n",
    "    my_sortf(MAT110)\n",
    "    for i in MAT110:\n",
    "        for j in lst:\n",
    "            if i == j[3]:\n",
    "                print(j[0])"
   ]
  },
  {
   "cell_type": "code",
   "execution_count": 17,
   "metadata": {},
   "outputs": [
    {
     "name": "stdout",
     "output_type": "stream",
     "text": [
      "[4, 2, 3, 1, 6, 5]\n",
      "4\n"
     ]
    }
   ],
   "source": [
    "#TASK 6\n",
    "my_list = [4, 2, 3, 1, 6, 5]\n",
    "temp1 = my_list.copy()\n",
    "\n",
    "for i in range(0,len(my_list)):\n",
    "    min1 = i\n",
    "    for j in range(i+1,len(my_list)):\n",
    "        if my_list[j] < my_list[min1]:\n",
    "            min1 = j\n",
    "    temp = my_list[i]\n",
    "    my_list[i] = my_list[min1]\n",
    "    my_list[min1] = temp\n",
    "temp2 = 0\n",
    "count = 0\n",
    "for i in my_list:\n",
    "    if i != temp1[temp2]:\n",
    "        count += 1\n",
    "    temp2 += 1\n",
    "print(count)\n"
   ]
  },
  {
   "cell_type": "code",
   "execution_count": 38,
   "metadata": {},
   "outputs": [
    {
     "name": "stdout",
     "output_type": "stream",
     "text": [
      "Sorted list = [1, 1, 1, 2, 4, 4, 5]\n",
      "Median = 4\n"
     ]
    }
   ],
   "source": [
    "#TASK 7\n",
    "input1 = input()\n",
    "input2 = input()\n",
    "list1 = [int(i) for i in input1[1:-1].split(\", \")]\n",
    "list2 = [int(i) for i in input2[1:-1].split(\", \")]\n",
    "\n",
    "list1.extend(list2)\n",
    "\n",
    "for i in range(0,len(list1)):\n",
    "    min1 = i\n",
    "    for j in range(i+1,len(list1)):\n",
    "        if list1[j] < list1[min1]:\n",
    "            min1 = j\n",
    "    temp = list1[i]\n",
    "    list1[i] = list1[min1]\n",
    "    list1[min1] = temp\n",
    "if len(list1) % 2 == 0:\n",
    "    temp1 = len(list1)//2\n",
    "    median = (list1[temp1] + list1[temp1-1]) / 2\n",
    "else:\n",
    "    median = list1[(len(list1)//2)+1]\n",
    "print(\"Sorted list =\", list1)\n",
    "print(\"Median =\", median)"
   ]
  },
  {
   "cell_type": "code",
   "execution_count": 36,
   "metadata": {},
   "outputs": [
    {
     "name": "stdout",
     "output_type": "stream",
     "text": [
      "Two pairs which have the smallest sum = 4 and -7\n"
     ]
    }
   ],
   "source": [
    "#TASK 8\n",
    "input1 = input()\n",
    "list1 = [int(i) for i in input1[1:-1].split(\", \")]\n",
    "min_value = abs(list1[0]+list1[1])\n",
    "min_tuple = (list1[0],list1[1])\n",
    "\n",
    "for i in range(0,len(list1)):\n",
    "    for j in range(i+1,len(list1)):\n",
    "        if abs(list1[i]+list1[j]) < min_value:\n",
    "            min_value = abs(list1[i]+list1[j])\n",
    "            min_tuple = (list1[i],list1[j])\n",
    "(first,sec) = min_tuple\n",
    "print(\"Two pairs which have the smallest sum =\", first,\"and\",sec)\n"
   ]
  },
  {
   "cell_type": "code",
   "execution_count": 43,
   "metadata": {},
   "outputs": [
    {
     "name": "stdout",
     "output_type": "stream",
     "text": [
      "Minimum Distance = 1.4142135623730951\n",
      "Here the closest point is (1, 1) which has a distance of 1.4142135623730951 from the origin\n"
     ]
    }
   ],
   "source": [
    "#TASK 9\n",
    "list1 = [(1,7), (4,5), (-1,7), (-2,0), (1,1), (5,-1)]\n",
    "position = []\n",
    "for i in list1:\n",
    "   pos = ((i[0])**2 + (i[1])**2) ** 0.5\n",
    "   position.append(pos)\n",
    "\n",
    "sorted_position = sorted(position)\n",
    "min_pos = sorted_position[0]\n",
    "min_dis = []\n",
    "for j in list1:\n",
    "   pos = ((j[0])**2 + (j[1])**2) ** 0.5\n",
    "   if pos == min_pos:\n",
    "       min_dis.append(j)\n",
    "       break\n",
    "\n",
    "print(f'Minimum Distance = {min_pos}')\n",
    "print(f'Here the closest point is {min_dis[0]} which has a distance of {min_pos} from the origin')"
   ]
  },
  {
   "cell_type": "code",
   "execution_count": null,
   "metadata": {},
   "outputs": [],
   "source": []
  }
 ],
 "metadata": {
  "kernelspec": {
   "display_name": "Python 3",
   "language": "python",
   "name": "python3"
  },
  "language_info": {
   "codemirror_mode": {
    "name": "ipython",
    "version": 3
   },
   "file_extension": ".py",
   "mimetype": "text/x-python",
   "name": "python",
   "nbconvert_exporter": "python",
   "pygments_lexer": "ipython3",
   "version": "3.10.2"
  }
 },
 "nbformat": 4,
 "nbformat_minor": 2
}
